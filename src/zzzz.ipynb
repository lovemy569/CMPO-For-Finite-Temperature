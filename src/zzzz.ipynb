{
 "cells": [
  {
   "cell_type": "markdown",
   "id": "f2f36c96-5943-4308-8d2a-c6ddb522b173",
   "metadata": {},
   "source": [
    "# CMPO For Finite Temperature"
   ]
  },
  {
   "cell_type": "markdown",
   "id": "202b67a6-8267-4b22-a07e-17b9f1604094",
   "metadata": {},
   "source": [
    "Some key point: ﬁnite temperature using continuous matrix product operator representation; without incurring any time discretization error; direct access to physical observables; verifying the method using the prototypical quantum XXZ chains; apply it to quantum Ising models with power-law decaying interactions and on the inﬁnite cylinder."
   ]
  },
  {
   "cell_type": "markdown",
   "id": "dd3e8b02-fa3f-4852-b5f8-fdc2c1e3f7aa",
   "metadata": {},
   "source": []
  },
  {
   "cell_type": "code",
   "execution_count": null,
   "id": "e5323a82-34c2-4e55-8c98-9cf2a9b992cb",
   "metadata": {},
   "outputs": [
    {
     "data": {
      "text/plain": [
       "logsumexp (generic function with 1 method)"
      ]
     },
     "execution_count": 7,
     "metadata": {},
     "output_type": "execute_result"
    }
   ],
   "source": [
    "using LinearAlgebra\n",
    "using Zygote\n",
    "\n",
    "function eigensolver(M)\n",
    "    # Manually symmetrize M before the eigen decomposition\n",
    "    M_sym = 0.5 * (M + M')\n",
    "    return eigen(M_sym)\n",
    "end\n",
    "\n",
    "function logtrexpm(beta, mat)\n",
    "    # Eigensolver\n",
    "    F = eigen(mat)\n",
    "    w = F.values\n",
    "    v = F.vectors\n",
    "    y = logsumexp(beta * w)\n",
    "    scaled_rho = beta * v * Diagonal(exp.(beta * w - y)) * v'\n",
    "    return y, scaled_rho\n",
    "end\n",
    "\n",
    "function logsumexp(x)\n",
    "    c = maximum(x)\n",
    "    return c + log(sum(exp.(x .- c)))\n",
    "end"
   ]
  }
 ],
 "metadata": {
  "kernelspec": {
   "display_name": "Julia 1.9.4",
   "language": "julia",
   "name": "julia-1.9"
  },
  "language_info": {
   "file_extension": ".jl",
   "mimetype": "application/julia",
   "name": "julia",
   "version": "1.9.4"
  }
 },
 "nbformat": 4,
 "nbformat_minor": 5
}
